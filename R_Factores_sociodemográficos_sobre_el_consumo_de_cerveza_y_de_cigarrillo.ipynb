{
  "nbformat": 4,
  "nbformat_minor": 0,
  "metadata": {
    "colab": {
      "provenance": []
    },
    "kernelspec": {
      "name": "ir",
      "display_name": "R"
    },
    "language_info": {
      "name": "R"
    }
  },
  "cells": [
    {
      "cell_type": "markdown",
      "source": [
        "# Código inicial y paquetes"
      ],
      "metadata": {
        "id": "799ylX9bLKTi"
      }
    },
    {
      "cell_type": "code",
      "execution_count": null,
      "metadata": {
        "id": "fFU9RHSgBwky",
        "colab": {
          "base_uri": "https://localhost:8080/"
        },
        "outputId": "130aab5b-f663-434b-87c1-6078b7300b68"
      },
      "outputs": [
        {
          "output_type": "stream",
          "name": "stderr",
          "text": [
            "Installing package into ‘/usr/local/lib/R/site-library’\n",
            "(as ‘lib’ is unspecified)\n",
            "\n",
            "Loading required package: readr\n",
            "\n"
          ]
        }
      ],
      "source": [
        "install.packages(\"readr\")\n",
        "require(readr)"
      ]
    },
    {
      "cell_type": "code",
      "source": [
        "install.packages(\"ggplot2\")\n",
        "require(ggplot2)"
      ],
      "metadata": {
        "colab": {
          "base_uri": "https://localhost:8080/"
        },
        "id": "23XtR0zIecDC",
        "outputId": "91f479da-2fe0-4564-e7d4-db3bbe267fb7"
      },
      "execution_count": null,
      "outputs": [
        {
          "output_type": "stream",
          "name": "stderr",
          "text": [
            "Installing package into ‘/usr/local/lib/R/site-library’\n",
            "(as ‘lib’ is unspecified)\n",
            "\n",
            "Loading required package: ggplot2\n",
            "\n"
          ]
        }
      ]
    },
    {
      "cell_type": "code",
      "source": [
        "install.packages(\"DescTools\")\n",
        "library(DescTools)"
      ],
      "metadata": {
        "colab": {
          "base_uri": "https://localhost:8080/"
        },
        "id": "XJJJ_XlIC1ZO",
        "outputId": "7dadc913-766b-4a5d-c08c-fe7c80a469bc"
      },
      "execution_count": null,
      "outputs": [
        {
          "output_type": "stream",
          "name": "stderr",
          "text": [
            "Installing package into ‘/usr/local/lib/R/site-library’\n",
            "(as ‘lib’ is unspecified)\n",
            "\n",
            "also installing the dependencies ‘proxy’, ‘rootSolve’, ‘e1071’, ‘lmom’, ‘mvtnorm’, ‘expm’, ‘Rcpp’, ‘Exact’, ‘gld’, ‘BH’\n",
            "\n",
            "\n"
          ]
        }
      ]
    },
    {
      "cell_type": "markdown",
      "source": [
        "# Parte para copiar ruta"
      ],
      "metadata": {
        "id": "YHF_Px1FLWii"
      }
    },
    {
      "cell_type": "code",
      "source": [
        " consumo<-read.csv(\"/content/consumo_cc.csv\")\n",
        " head(consumo)"
      ],
      "metadata": {
        "colab": {
          "base_uri": "https://localhost:8080/",
          "height": 286
        },
        "id": "qM-kmhmwDD_v",
        "outputId": "a4873589-37d7-4450-87d2-51bbac7c4079"
      },
      "execution_count": null,
      "outputs": [
        {
          "output_type": "display_data",
          "data": {
            "text/html": [
              "<table class=\"dataframe\">\n",
              "<caption>A data.frame: 6 × 7</caption>\n",
              "<thead>\n",
              "\t<tr><th></th><th scope=col>id</th><th scope=col>educacion</th><th scope=col>sexo</th><th scope=col>edad</th><th scope=col>cervezas</th><th scope=col>hijos</th><th scope=col>cigarrillo</th></tr>\n",
              "\t<tr><th></th><th scope=col>&lt;int&gt;</th><th scope=col>&lt;int&gt;</th><th scope=col>&lt;chr&gt;</th><th scope=col>&lt;int&gt;</th><th scope=col>&lt;chr&gt;</th><th scope=col>&lt;int&gt;</th><th scope=col>&lt;int&gt;</th></tr>\n",
              "</thead>\n",
              "<tbody>\n",
              "\t<tr><th scope=row>1</th><td>1</td><td>12</td><td>Masculino</td><td>18</td><td>3</td><td>0</td><td>0</td></tr>\n",
              "\t<tr><th scope=row>2</th><td>2</td><td>12</td><td>Femenino </td><td>19</td><td>2</td><td>0</td><td>1</td></tr>\n",
              "\t<tr><th scope=row>3</th><td>3</td><td>10</td><td>Masculino</td><td>20</td><td>5</td><td>0</td><td>1</td></tr>\n",
              "\t<tr><th scope=row>4</th><td>4</td><td>11</td><td>Masculino</td><td>20</td><td>4</td><td>0</td><td>0</td></tr>\n",
              "\t<tr><th scope=row>5</th><td>5</td><td>12</td><td>Femenino </td><td>20</td><td>3</td><td>1</td><td>0</td></tr>\n",
              "\t<tr><th scope=row>6</th><td>6</td><td>12</td><td>Femenino </td><td>20</td><td>4</td><td>1</td><td>0</td></tr>\n",
              "</tbody>\n",
              "</table>\n"
            ],
            "text/markdown": "\nA data.frame: 6 × 7\n\n| <!--/--> | id &lt;int&gt; | educacion &lt;int&gt; | sexo &lt;chr&gt; | edad &lt;int&gt; | cervezas &lt;chr&gt; | hijos &lt;int&gt; | cigarrillo &lt;int&gt; |\n|---|---|---|---|---|---|---|---|\n| 1 | 1 | 12 | Masculino | 18 | 3 | 0 | 0 |\n| 2 | 2 | 12 | Femenino  | 19 | 2 | 0 | 1 |\n| 3 | 3 | 10 | Masculino | 20 | 5 | 0 | 1 |\n| 4 | 4 | 11 | Masculino | 20 | 4 | 0 | 0 |\n| 5 | 5 | 12 | Femenino  | 20 | 3 | 1 | 0 |\n| 6 | 6 | 12 | Femenino  | 20 | 4 | 1 | 0 |\n\n",
            "text/latex": "A data.frame: 6 × 7\n\\begin{tabular}{r|lllllll}\n  & id & educacion & sexo & edad & cervezas & hijos & cigarrillo\\\\\n  & <int> & <int> & <chr> & <int> & <chr> & <int> & <int>\\\\\n\\hline\n\t1 & 1 & 12 & Masculino & 18 & 3 & 0 & 0\\\\\n\t2 & 2 & 12 & Femenino  & 19 & 2 & 0 & 1\\\\\n\t3 & 3 & 10 & Masculino & 20 & 5 & 0 & 1\\\\\n\t4 & 4 & 11 & Masculino & 20 & 4 & 0 & 0\\\\\n\t5 & 5 & 12 & Femenino  & 20 & 3 & 1 & 0\\\\\n\t6 & 6 & 12 & Femenino  & 20 & 4 & 1 & 0\\\\\n\\end{tabular}\n",
            "text/plain": [
              "  id educacion sexo      edad cervezas hijos cigarrillo\n",
              "1 1  12        Masculino 18   3        0     0         \n",
              "2 2  12        Femenino  19   2        0     1         \n",
              "3 3  10        Masculino 20   5        0     1         \n",
              "4 4  11        Masculino 20   4        0     0         \n",
              "5 5  12        Femenino  20   3        1     0         \n",
              "6 6  12        Femenino  20   4        1     0         "
            ]
          },
          "metadata": {}
        }
      ]
    },
    {
      "cell_type": "code",
      "source": [
        "consumo<-na.omit(consumo)\n",
        "consumo$sexo=as.factor(consumo$sexo)\n",
        "consumo$cervezas=as.integer(consumo$cervezas)\n",
        "head(consumo)"
      ],
      "metadata": {
        "colab": {
          "base_uri": "https://localhost:8080/",
          "height": 322
        },
        "id": "7Gaho0yZZrxh",
        "outputId": "b276a532-68b8-49e4-9e01-212c8392e04f"
      },
      "execution_count": null,
      "outputs": [
        {
          "output_type": "stream",
          "name": "stderr",
          "text": [
            "Warning message in eval(expr, envir, enclos):\n",
            "“NAs introduced by coercion”\n"
          ]
        },
        {
          "output_type": "display_data",
          "data": {
            "text/html": [
              "<table class=\"dataframe\">\n",
              "<caption>A data.frame: 6 × 7</caption>\n",
              "<thead>\n",
              "\t<tr><th></th><th scope=col>id</th><th scope=col>educacion</th><th scope=col>sexo</th><th scope=col>edad</th><th scope=col>cervezas</th><th scope=col>hijos</th><th scope=col>cigarrillo</th></tr>\n",
              "\t<tr><th></th><th scope=col>&lt;int&gt;</th><th scope=col>&lt;int&gt;</th><th scope=col>&lt;fct&gt;</th><th scope=col>&lt;int&gt;</th><th scope=col>&lt;int&gt;</th><th scope=col>&lt;int&gt;</th><th scope=col>&lt;int&gt;</th></tr>\n",
              "</thead>\n",
              "<tbody>\n",
              "\t<tr><th scope=row>1</th><td>1</td><td>12</td><td>Masculino</td><td>18</td><td>3</td><td>0</td><td>0</td></tr>\n",
              "\t<tr><th scope=row>2</th><td>2</td><td>12</td><td>Femenino </td><td>19</td><td>2</td><td>0</td><td>1</td></tr>\n",
              "\t<tr><th scope=row>3</th><td>3</td><td>10</td><td>Masculino</td><td>20</td><td>5</td><td>0</td><td>1</td></tr>\n",
              "\t<tr><th scope=row>4</th><td>4</td><td>11</td><td>Masculino</td><td>20</td><td>4</td><td>0</td><td>0</td></tr>\n",
              "\t<tr><th scope=row>5</th><td>5</td><td>12</td><td>Femenino </td><td>20</td><td>3</td><td>1</td><td>0</td></tr>\n",
              "\t<tr><th scope=row>6</th><td>6</td><td>12</td><td>Femenino </td><td>20</td><td>4</td><td>1</td><td>0</td></tr>\n",
              "</tbody>\n",
              "</table>\n"
            ],
            "text/markdown": "\nA data.frame: 6 × 7\n\n| <!--/--> | id &lt;int&gt; | educacion &lt;int&gt; | sexo &lt;fct&gt; | edad &lt;int&gt; | cervezas &lt;int&gt; | hijos &lt;int&gt; | cigarrillo &lt;int&gt; |\n|---|---|---|---|---|---|---|---|\n| 1 | 1 | 12 | Masculino | 18 | 3 | 0 | 0 |\n| 2 | 2 | 12 | Femenino  | 19 | 2 | 0 | 1 |\n| 3 | 3 | 10 | Masculino | 20 | 5 | 0 | 1 |\n| 4 | 4 | 11 | Masculino | 20 | 4 | 0 | 0 |\n| 5 | 5 | 12 | Femenino  | 20 | 3 | 1 | 0 |\n| 6 | 6 | 12 | Femenino  | 20 | 4 | 1 | 0 |\n\n",
            "text/latex": "A data.frame: 6 × 7\n\\begin{tabular}{r|lllllll}\n  & id & educacion & sexo & edad & cervezas & hijos & cigarrillo\\\\\n  & <int> & <int> & <fct> & <int> & <int> & <int> & <int>\\\\\n\\hline\n\t1 & 1 & 12 & Masculino & 18 & 3 & 0 & 0\\\\\n\t2 & 2 & 12 & Femenino  & 19 & 2 & 0 & 1\\\\\n\t3 & 3 & 10 & Masculino & 20 & 5 & 0 & 1\\\\\n\t4 & 4 & 11 & Masculino & 20 & 4 & 0 & 0\\\\\n\t5 & 5 & 12 & Femenino  & 20 & 3 & 1 & 0\\\\\n\t6 & 6 & 12 & Femenino  & 20 & 4 & 1 & 0\\\\\n\\end{tabular}\n",
            "text/plain": [
              "  id educacion sexo      edad cervezas hijos cigarrillo\n",
              "1 1  12        Masculino 18   3        0     0         \n",
              "2 2  12        Femenino  19   2        0     1         \n",
              "3 3  10        Masculino 20   5        0     1         \n",
              "4 4  11        Masculino 20   4        0     0         \n",
              "5 5  12        Femenino  20   3        1     0         \n",
              "6 6  12        Femenino  20   4        1     0         "
            ]
          },
          "metadata": {}
        }
      ]
    },
    {
      "cell_type": "markdown",
      "source": [
        "# Respuestas"
      ],
      "metadata": {
        "id": "AknzvNVDLcaq"
      }
    },
    {
      "cell_type": "markdown",
      "source": [
        "Para responder las preguntas hechas del estudio para determinar la incidencia de ciertos factores sociodemográficos sobre el consumo de cerveza y de cigarrillo en población de Cundinamarca de 1.151 personas seleccionadas aleatoriamente, es necesario ver qué tipos de datos tenemos:\n",
        "\n",
        "- id no tiene relación ya que es el número de la encuesta, toca quitarla con -id\n",
        "- Educación en años estudiados, escalar\n",
        "- Sexo es una variable categórica de dos grupos Femenino o Masculino\n",
        "- edad escalar\n",
        "- Cerveza es escalar\n",
        "- hijos escalar\n",
        "- cigarrillo es binaria\n",
        "\n",
        "1. ¿Cuáles son los factores que inciden en la explicación del consumo de\n",
        "cerveza por parte de la población encuestada? ¿En qué porcentaje estos\n",
        "factores explican la variabilidad del consumo de cerveza?\n",
        "\n",
        "Ya que estamos hablando de un solo porcentaje para múltiples factores este se puede considerar un problema de regresión lineal múltiple, si desplegamos ese aparte en la parte inferior en cuanto al modelo 6 que incluye el número de cervezas explicadas en función de las variables sexo, educación, edad e hijos y luego la celda summary que nos da un resumen de este podemos notar algunas cosas:\n",
        "\n",
        "-\n",
        "\n",
        "```\n",
        "Coefficients:\n",
        "               Estimate Std. Error t value Pr(>|t|)    \n",
        "(Intercept)    5.694254   0.335583  16.968   <2e-16 ***\n",
        "sexoMasculino -0.185692   0.104726  -1.773   0.0765 .  \n",
        "educacion     -0.201045   0.019776 -10.166   <2e-16 ***\n",
        "edad          -0.006702   0.004233  -1.583   0.1137    \n",
        "hijos          0.008952   0.044455   0.201   0.8404  \n",
        "```\n",
        "\n",
        "En cuanto a la primera parte de la pregunta: ¿Cuáles son los factores que inciden en la explicación del consumo de cerveza por parte de la población encuestada?, la única variable que se debe tener en cuenta ya que su p valor (denotado por Pr(>|t|)) es menor a nuestro margen de error por excelencia del 5%, y que además R nos ayuda distinguiéndola con tres estrellitas fuera del intercepto es la variable educación, esta es al parecer la única que incide en el consumo de cerveza por parte de la población encuestada.\n",
        "\n",
        "- Adjusted R-squared:  0.08691\n",
        "\n",
        "En cuanto a la segunda parte de la pregunta ¿En qué porcentaje estos\n",
        "factores explican la variabilidad del consumo de cerveza?, el puntaje R cuadrado ajustado siendo un porcentaje de variabilidad es de 0.08691 que nos indica un 8.691% del consumo de cervezas explicada por el sexo de nacimiento, la educación, la edad y el número de hijos, lo cual lo hace un modelo malisisisisimo ya que solo explicando el 8.691% queda por fuera de la explicación el 91.309% del fenómeno.\n",
        "\n",
        "\n",
        "2. ¿Es confiable realizar pronósticos o análisis estructurales con los factores\n",
        "obtenidos en el modelo del punto anterior? Explique detalladamente su\n",
        "respuesta\n",
        "\n",
        "En resumen, no, para nada, si nos referimos al punto anterior como estaba, explicando el R cuadrado que explica el consumo de cervezas explicada por el sexo de nacimiento, la educación, la edad y el número de hijos solo para el 8.691% quedando en lo desconocido el 91.309% del fenómeno no es para nada confiable, hay prácticamente 9 de 10 cervezas que no han sido explicadas, puede ser por amor, por odio, porque a la población se le dió por romper botellas de cerveza, simplemente no lo sabríamos con tal modelo.\n",
        "\n",
        "3. ¿Qué oportunidades de mejora y/o correctivos deben aplicarse para que se\n",
        "pueda explicar el consumo de cerveza con mayor precisión y confiabilidad?\n",
        "\n",
        "Hay varias alternativas, creo que se necesita agregar una cantidad más alta de factores lógicos para el consumo de bebidas alcohólicas como estrés, fiestas, número de asados asados a los que se asiste, si es costeño o no, si ve fútbol, si es alcohólico empedernido... pero es signo de que hay que mejorar la encuesta desde su mismo planteamiento, también podemos creer que simplemente omitir variables y dejárselo todo al nivel educativo haciendo regresión lineal simple podría ser un opción pero debido a mi experimento de pasar el número de cervezas en función de la educación en el apartado de Regresión lineal no lo considero una buena opción porque sucede casi lo mismo, es decir Homero Simpson fue astronauta, físico nuclear y aún así un ebrio orgulloso"
      ],
      "metadata": {
        "id": "MYGAC42y5pcH"
      }
    },
    {
      "cell_type": "markdown",
      "source": [
        "4. ¿Cuál es la variable que tiene mayor incidencia en el consumo de cigarrillo?\n",
        "¿Cómo varía la probabilidad de consumir cigarrillo ante la presencia de los\n",
        "factores más determinantes?\n",
        "\n",
        "De las que aportan al parecer es la variante Dummy binaria de sexo (masculino/femenino) que da un estimado de 0.682171, esto quiere decir que si uno es hombre, porque como vimos en el video del respetado Sr. Profesor Julián Ramirez R automaticamente convierte las variables dummys por orden alfabético, en este caso femenino 0 y masculino 1, al ser un número mayor incide en mayor medida ante cigarrillo en la ecuación \"formula = cigarrillo ~ educacion + sexo + edad\", aunque si se trata de hablar estadísticamente entonces con el p valor más pequeño 2e-16 edad puede significar más, doy ambas opciones para cubrirme en salud ya que no sé específicamente a qué se refiera la pregunta.\n",
        "\n",
        "En cuanto a la segunda parte de la pregunta nos referimos a la matriz en porcentajes\n",
        "\n",
        "```\n",
        "            0         1\n",
        "  0 0.7137405 0.3278689\n",
        "  1 0.2862595 0.6721311\n",
        "```\n",
        "¿Cómo varía la probabilidad de consumir cigarrillo ante la presencia de los\n",
        "factores más determinantes? el modelo acierta en 71% de los casos en donde hay 71% si predecía que si una persona consume cigarrillo, hay un 71% de probabilidad de acertar que si lo consuma y 67% de probabilidad de acertar en que si no consume cigarrillo efectivamente no lo consuma, esto por los factores dados, creo que a esto se refiere la pregunta ya que no hay (o más bien no encuentro) más porcentajes de en regresión binaria.\n",
        "\n",
        "```\n",
        "           0        1\n",
        "  0 71.37405 32.78689\n",
        "  1 28.62595 67.21311\n",
        "```\n",
        "\n",
        "\n",
        "\n",
        "\n",
        "5. ¿Es confiable pronosticar la probabilidad de consumo de cigarrillo a partir\n",
        "de la información recolectada? ¿Qué situaciones correctivas deberían\n",
        "aplicarse para mejorar estos pronósticos?\n",
        "\n",
        "```\n",
        "           0        1\n",
        "  0 71.37405 32.78689\n",
        "  1 28.62595 67.21311\n",
        "```\n",
        "Si es conveniente y confiable utilizar el modelo para predecir ya que tiene 21% de ganancia (para un total de 71%) en acertar que en presencia de estos factores si el modelo dice que consume cigarrillo en realidad si lo consume, y si no consume cigarrillo 67% en realidad no lo consume. Creo que esta es la forma de resolver la pregunta ya que no hay otros porcentajes, solo se acerca la interpretación de los valores p en si son estadísticamente significativos o no entre un margen de porciento, en todo caso teniendo 3 asteriscos cada factor son significantes entre 0 y 0.001.\n",
        "\n",
        "Como correctivos y disminuir el error de 32% y 28% incluiría algunos factores más específicos, según la clínica Mayo además de la edad hay más factores de riesgo para que una persona caiga en nicotinodependencia, por ejemplo la genética (si miembros de la familia eran dependientes, si hay padres y/o compañeros que fumen, si se tiene conocimiento de padecer depresión o alguna otra enfermedad/transtorno mental, y si ya de por sí hay uso de otras sustancias, creo igualmente que se debería centrar la encuesta en tal propósito como que si fuma o no, o si por los factores anteriormente dados puede estar en riesgo de llegar al tabaquismo por cigarrillos o no.\n",
        "\n",
        "6. ¿Podría postular otros factores que potencialmente ayudaran a explicar el\n",
        "consumo de cigarrillo?\n",
        "\n",
        "Por supuesto, además de los factores como genética, padres/compañeros fumadores, enfermedad mental, y el abuso de sustancias nombrados anteriormente hay varias situaciones en que aparece el estímulo del fumador para fumar, por ejemplo, de nuevo me refiero al artículo de la clínica Mayo, si hay situaciones de descanso en el trabajo, tomar café, hablar por teléfono, conducir y pasar tiempo con compañeros en especial si son fumadores, podrían incluirse en la encuesta si al individuo se le presentan estas situaciones."
      ],
      "metadata": {
        "id": "EOGc2LwHVMCu"
      }
    },
    {
      "cell_type": "markdown",
      "source": [
        "Link al artículo para no incurrir en\n",
        "\n",
        "![plagio.jpg](data:image/jpeg;base64,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)\n",
        "\n",
        "https://www.mayoclinic.org/es-es/diseases-conditions/nicotine-dependence/symptoms-causes/syc-20351584"
      ],
      "metadata": {
        "id": "iUpPveDvtXP-"
      }
    },
    {
      "cell_type": "markdown",
      "source": [
        "# Regresión lineal"
      ],
      "metadata": {
        "id": "eCpsdwBsE2xO"
      }
    },
    {
      "cell_type": "code",
      "source": [
        "modelo1<-lm(cervezas ~ educacion, data=consumo)\n",
        "modelo1\n",
        "summary(modelo1)"
      ],
      "metadata": {
        "colab": {
          "base_uri": "https://localhost:8080/",
          "height": 482
        },
        "id": "M7Gz5RQ4fsl_",
        "outputId": "dfc0227d-3ea1-4e91-8abc-0227f911287b"
      },
      "execution_count": null,
      "outputs": [
        {
          "output_type": "display_data",
          "data": {
            "text/plain": [
              "\n",
              "Call:\n",
              "lm(formula = cervezas ~ educacion, data = consumo)\n",
              "\n",
              "Coefficients:\n",
              "(Intercept)    educacion  \n",
              "     5.2914      -0.1958  \n"
            ]
          },
          "metadata": {}
        },
        {
          "output_type": "display_data",
          "data": {
            "text/plain": [
              "\n",
              "Call:\n",
              "lm(formula = cervezas ~ educacion, data = consumo)\n",
              "\n",
              "Residuals:\n",
              "    Min      1Q  Median      3Q     Max \n",
              "-3.3335 -1.1588 -0.1588  0.8412  8.8623 \n",
              "\n",
              "Coefficients:\n",
              "            Estimate Std. Error t value Pr(>|t|)    \n",
              "(Intercept)  5.29141    0.25754   20.55   <2e-16 ***\n",
              "educacion   -0.19579    0.01899  -10.31   <2e-16 ***\n",
              "---\n",
              "Signif. codes:  0 ‘***’ 0.001 ‘**’ 0.01 ‘*’ 0.05 ‘.’ 0.1 ‘ ’ 1\n",
              "\n",
              "Residual standard error: 1.726 on 1138 degrees of freedom\n",
              "  (12 observations deleted due to missingness)\n",
              "Multiple R-squared:  0.0854,\tAdjusted R-squared:  0.0846 \n",
              "F-statistic: 106.3 on 1 and 1138 DF,  p-value: < 2.2e-16\n"
            ]
          },
          "metadata": {}
        }
      ]
    },
    {
      "cell_type": "code",
      "source": [
        "modelo2<-lm(cervezas ~ sexo, data=consumo)\n",
        "modelo2\n",
        "summary(modelo2)"
      ],
      "metadata": {
        "colab": {
          "base_uri": "https://localhost:8080/",
          "height": 482
        },
        "id": "3o6RBHRKgwv1",
        "outputId": "dbb39643-307f-43fb-cbbb-4e9722766ce8"
      },
      "execution_count": null,
      "outputs": [
        {
          "output_type": "display_data",
          "data": {
            "text/plain": [
              "\n",
              "Call:\n",
              "lm(formula = cervezas ~ sexo, data = consumo)\n",
              "\n",
              "Coefficients:\n",
              "  (Intercept)  sexoMasculino  \n",
              "       2.7746        -0.1938  \n"
            ]
          },
          "metadata": {}
        },
        {
          "output_type": "display_data",
          "data": {
            "text/plain": [
              "\n",
              "Call:\n",
              "lm(formula = cervezas ~ sexo, data = consumo)\n",
              "\n",
              "Residuals:\n",
              "    Min      1Q  Median      3Q     Max \n",
              "-2.7746 -1.5808 -0.5808  0.4192  9.2254 \n",
              "\n",
              "Coefficients:\n",
              "              Estimate Std. Error t value Pr(>|t|)    \n",
              "(Intercept)    2.77465    0.07129  38.922   <2e-16 ***\n",
              "sexoMasculino -0.19381    0.10754  -1.802   0.0718 .  \n",
              "---\n",
              "Signif. codes:  0 ‘***’ 0.001 ‘**’ 0.01 ‘*’ 0.05 ‘.’ 0.1 ‘ ’ 1\n",
              "\n",
              "Residual standard error: 1.802 on 1138 degrees of freedom\n",
              "  (12 observations deleted due to missingness)\n",
              "Multiple R-squared:  0.002846,\tAdjusted R-squared:  0.00197 \n",
              "F-statistic: 3.248 on 1 and 1138 DF,  p-value: 0.07176\n"
            ]
          },
          "metadata": {}
        }
      ]
    },
    {
      "cell_type": "code",
      "source": [
        "modelo3<-lm(cervezas ~ edad, data=consumo)\n",
        "modelo3\n",
        "summary(modelo3)"
      ],
      "metadata": {
        "colab": {
          "base_uri": "https://localhost:8080/",
          "height": 482
        },
        "id": "iJRXH2-Sg28F",
        "outputId": "6369ee1a-9ba9-46e5-9228-33cf24aa4b11"
      },
      "execution_count": null,
      "outputs": [
        {
          "output_type": "display_data",
          "data": {
            "text/plain": [
              "\n",
              "Call:\n",
              "lm(formula = cervezas ~ edad, data = consumo)\n",
              "\n",
              "Coefficients:\n",
              "(Intercept)         edad  \n",
              "   2.609544     0.002021  \n"
            ]
          },
          "metadata": {}
        },
        {
          "output_type": "display_data",
          "data": {
            "text/plain": [
              "\n",
              "Call:\n",
              "lm(formula = cervezas ~ edad, data = consumo)\n",
              "\n",
              "Residuals:\n",
              "   Min     1Q Median     3Q    Max \n",
              "-2.721 -1.655 -0.654  0.344  9.324 \n",
              "\n",
              "Coefficients:\n",
              "            Estimate Std. Error t value Pr(>|t|)    \n",
              "(Intercept) 2.609544   0.162542  16.055   <2e-16 ***\n",
              "edad        0.002021   0.003882   0.521    0.603    \n",
              "---\n",
              "Signif. codes:  0 ‘***’ 0.001 ‘**’ 0.01 ‘*’ 0.05 ‘.’ 0.1 ‘ ’ 1\n",
              "\n",
              "Residual standard error: 1.804 on 1138 degrees of freedom\n",
              "  (12 observations deleted due to missingness)\n",
              "Multiple R-squared:  0.0002382,\tAdjusted R-squared:  -0.0006403 \n",
              "F-statistic: 0.2711 on 1 and 1138 DF,  p-value: 0.6027\n"
            ]
          },
          "metadata": {}
        }
      ]
    },
    {
      "cell_type": "code",
      "source": [
        "modelo4<-lm(cervezas ~ hijos, data=consumo)\n",
        "modelo4\n",
        "summary(modelo4)"
      ],
      "metadata": {
        "colab": {
          "base_uri": "https://localhost:8080/",
          "height": 482
        },
        "id": "JY6tyMVDg57k",
        "outputId": "a8cc7b21-ca37-49b3-e2c4-d2bfa46f8f90"
      },
      "execution_count": null,
      "outputs": [
        {
          "output_type": "display_data",
          "data": {
            "text/plain": [
              "\n",
              "Call:\n",
              "lm(formula = cervezas ~ hijos, data = consumo)\n",
              "\n",
              "Coefficients:\n",
              "(Intercept)        hijos  \n",
              "    2.54341      0.09586  \n"
            ]
          },
          "metadata": {}
        },
        {
          "output_type": "display_data",
          "data": {
            "text/plain": [
              "\n",
              "Call:\n",
              "lm(formula = cervezas ~ hijos, data = consumo)\n",
              "\n",
              "Residuals:\n",
              "    Min      1Q  Median      3Q     Max \n",
              "-2.9269 -1.5434 -0.5434  0.4566  9.2649 \n",
              "\n",
              "Coefficients:\n",
              "            Estimate Std. Error t value Pr(>|t|)    \n",
              "(Intercept)  2.54341    0.08025  31.694   <2e-16 ***\n",
              "hijos        0.09586    0.03937   2.435    0.015 *  \n",
              "---\n",
              "Signif. codes:  0 ‘***’ 0.001 ‘**’ 0.01 ‘*’ 0.05 ‘.’ 0.1 ‘ ’ 1\n",
              "\n",
              "Residual standard error: 1.8 on 1138 degrees of freedom\n",
              "  (12 observations deleted due to missingness)\n",
              "Multiple R-squared:  0.005183,\tAdjusted R-squared:  0.004309 \n",
              "F-statistic: 5.929 on 1 and 1138 DF,  p-value: 0.01505\n"
            ]
          },
          "metadata": {}
        }
      ]
    },
    {
      "cell_type": "markdown",
      "source": [
        "# Regresión lineal múltiple"
      ],
      "metadata": {
        "id": "bW60v_qUkDh9"
      }
    },
    {
      "cell_type": "code",
      "source": [
        "modelo5<-lm(cervezas~sexo+educacion+edad+hijos, data=consumo)\n",
        "modelo5"
      ],
      "metadata": {
        "colab": {
          "base_uri": "https://localhost:8080/",
          "height": 142
        },
        "id": "B2ZKPNqNl_hE",
        "outputId": "36aa16cd-29d2-46a2-84ef-41f30ddc6923"
      },
      "execution_count": null,
      "outputs": [
        {
          "output_type": "display_data",
          "data": {
            "text/plain": [
              "\n",
              "Call:\n",
              "lm(formula = cervezas ~ sexo + educacion + edad + hijos, data = consumo)\n",
              "\n",
              "Coefficients:\n",
              "  (Intercept)  sexoMasculino      educacion           edad          hijos  \n",
              "     5.694254      -0.185692      -0.201045      -0.006702       0.008952  \n"
            ]
          },
          "metadata": {}
        }
      ]
    },
    {
      "cell_type": "code",
      "source": [
        "summary(modelo5)"
      ],
      "metadata": {
        "colab": {
          "base_uri": "https://localhost:8080/",
          "height": 410
        },
        "id": "PxlTNJu4HYf7",
        "outputId": "067da8fc-0ec4-42fe-fea5-0341c1f9c679"
      },
      "execution_count": null,
      "outputs": [
        {
          "output_type": "display_data",
          "data": {
            "text/plain": [
              "\n",
              "Call:\n",
              "lm(formula = cervezas ~ sexo + educacion + edad + hijos, data = consumo)\n",
              "\n",
              "Residuals:\n",
              "    Min      1Q  Median      3Q     Max \n",
              "-3.1385 -1.1125 -0.1885  0.8659  8.7205 \n",
              "\n",
              "Coefficients:\n",
              "               Estimate Std. Error t value Pr(>|t|)    \n",
              "(Intercept)    5.694254   0.335583  16.968   <2e-16 ***\n",
              "sexoMasculino -0.185692   0.104726  -1.773   0.0765 .  \n",
              "educacion     -0.201045   0.019776 -10.166   <2e-16 ***\n",
              "edad          -0.006702   0.004233  -1.583   0.1137    \n",
              "hijos          0.008952   0.044455   0.201   0.8404    \n",
              "---\n",
              "Signif. codes:  0 ‘***’ 0.001 ‘**’ 0.01 ‘*’ 0.05 ‘.’ 0.1 ‘ ’ 1\n",
              "\n",
              "Residual standard error: 1.724 on 1135 degrees of freedom\n",
              "  (12 observations deleted due to missingness)\n",
              "Multiple R-squared:  0.09011,\tAdjusted R-squared:  0.08691 \n",
              "F-statistic:  28.1 on 4 and 1135 DF,  p-value: < 2.2e-16\n"
            ]
          },
          "metadata": {}
        }
      ]
    },
    {
      "cell_type": "markdown",
      "source": [
        "# Modelos LIN LOG"
      ],
      "metadata": {
        "id": "2JVF4fxdPA0m"
      }
    },
    {
      "cell_type": "code",
      "source": [
        "install.packages(\"readr\")\n",
        "library(readr)"
      ],
      "metadata": {
        "colab": {
          "base_uri": "https://localhost:8080/"
        },
        "id": "dOMjyyDoamdt",
        "outputId": "c4d57489-172f-4561-f581-bc11a4802cc2"
      },
      "execution_count": null,
      "outputs": [
        {
          "output_type": "stream",
          "name": "stderr",
          "text": [
            "Installing package into ‘/usr/local/lib/R/site-library’\n",
            "(as ‘lib’ is unspecified)\n",
            "\n"
          ]
        }
      ]
    },
    {
      "cell_type": "code",
      "source": [
        "datos<-read.csv(\"/content/consumo_cc.csv\")\n",
        "datos<-na.omit(datos)\n",
        "head(datos)"
      ],
      "metadata": {
        "colab": {
          "base_uri": "https://localhost:8080/",
          "height": 286
        },
        "id": "xiJQrigZpC_1",
        "outputId": "780dc860-5739-4b31-e9e7-9174661b15c8"
      },
      "execution_count": null,
      "outputs": [
        {
          "output_type": "display_data",
          "data": {
            "text/html": [
              "<table class=\"dataframe\">\n",
              "<caption>A data.frame: 6 × 7</caption>\n",
              "<thead>\n",
              "\t<tr><th></th><th scope=col>id</th><th scope=col>educacion</th><th scope=col>sexo</th><th scope=col>edad</th><th scope=col>cervezas</th><th scope=col>hijos</th><th scope=col>cigarrillo</th></tr>\n",
              "\t<tr><th></th><th scope=col>&lt;int&gt;</th><th scope=col>&lt;int&gt;</th><th scope=col>&lt;chr&gt;</th><th scope=col>&lt;int&gt;</th><th scope=col>&lt;chr&gt;</th><th scope=col>&lt;int&gt;</th><th scope=col>&lt;int&gt;</th></tr>\n",
              "</thead>\n",
              "<tbody>\n",
              "\t<tr><th scope=row>1</th><td>1</td><td>12</td><td>Masculino</td><td>18</td><td>3</td><td>0</td><td>0</td></tr>\n",
              "\t<tr><th scope=row>2</th><td>2</td><td>12</td><td>Femenino </td><td>19</td><td>2</td><td>0</td><td>1</td></tr>\n",
              "\t<tr><th scope=row>3</th><td>3</td><td>10</td><td>Masculino</td><td>20</td><td>5</td><td>0</td><td>1</td></tr>\n",
              "\t<tr><th scope=row>4</th><td>4</td><td>11</td><td>Masculino</td><td>20</td><td>4</td><td>0</td><td>0</td></tr>\n",
              "\t<tr><th scope=row>5</th><td>5</td><td>12</td><td>Femenino </td><td>20</td><td>3</td><td>1</td><td>0</td></tr>\n",
              "\t<tr><th scope=row>6</th><td>6</td><td>12</td><td>Femenino </td><td>20</td><td>4</td><td>1</td><td>0</td></tr>\n",
              "</tbody>\n",
              "</table>\n"
            ],
            "text/markdown": "\nA data.frame: 6 × 7\n\n| <!--/--> | id &lt;int&gt; | educacion &lt;int&gt; | sexo &lt;chr&gt; | edad &lt;int&gt; | cervezas &lt;chr&gt; | hijos &lt;int&gt; | cigarrillo &lt;int&gt; |\n|---|---|---|---|---|---|---|---|\n| 1 | 1 | 12 | Masculino | 18 | 3 | 0 | 0 |\n| 2 | 2 | 12 | Femenino  | 19 | 2 | 0 | 1 |\n| 3 | 3 | 10 | Masculino | 20 | 5 | 0 | 1 |\n| 4 | 4 | 11 | Masculino | 20 | 4 | 0 | 0 |\n| 5 | 5 | 12 | Femenino  | 20 | 3 | 1 | 0 |\n| 6 | 6 | 12 | Femenino  | 20 | 4 | 1 | 0 |\n\n",
            "text/latex": "A data.frame: 6 × 7\n\\begin{tabular}{r|lllllll}\n  & id & educacion & sexo & edad & cervezas & hijos & cigarrillo\\\\\n  & <int> & <int> & <chr> & <int> & <chr> & <int> & <int>\\\\\n\\hline\n\t1 & 1 & 12 & Masculino & 18 & 3 & 0 & 0\\\\\n\t2 & 2 & 12 & Femenino  & 19 & 2 & 0 & 1\\\\\n\t3 & 3 & 10 & Masculino & 20 & 5 & 0 & 1\\\\\n\t4 & 4 & 11 & Masculino & 20 & 4 & 0 & 0\\\\\n\t5 & 5 & 12 & Femenino  & 20 & 3 & 1 & 0\\\\\n\t6 & 6 & 12 & Femenino  & 20 & 4 & 1 & 0\\\\\n\\end{tabular}\n",
            "text/plain": [
              "  id educacion sexo      edad cervezas hijos cigarrillo\n",
              "1 1  12        Masculino 18   3        0     0         \n",
              "2 2  12        Femenino  19   2        0     1         \n",
              "3 3  10        Masculino 20   5        0     1         \n",
              "4 4  11        Masculino 20   4        0     0         \n",
              "5 5  12        Femenino  20   3        1     0         \n",
              "6 6  12        Femenino  20   4        1     0         "
            ]
          },
          "metadata": {}
        }
      ]
    },
    {
      "cell_type": "code",
      "source": [
        "datos<-na.omit(datos)\n",
        "datos$sexo=as.factor(datos$sexo)\n",
        "datos$cervezas=as.integer(datos$cervezas)\n",
        "head(datos)"
      ],
      "metadata": {
        "colab": {
          "base_uri": "https://localhost:8080/",
          "height": 322
        },
        "id": "8lS1TKsOlojs",
        "outputId": "c3f0e917-09ef-432a-820b-26938fe3bdba"
      },
      "execution_count": null,
      "outputs": [
        {
          "output_type": "stream",
          "name": "stderr",
          "text": [
            "Warning message in eval(expr, envir, enclos):\n",
            "“NAs introduced by coercion”\n"
          ]
        },
        {
          "output_type": "display_data",
          "data": {
            "text/html": [
              "<table class=\"dataframe\">\n",
              "<caption>A data.frame: 6 × 7</caption>\n",
              "<thead>\n",
              "\t<tr><th></th><th scope=col>id</th><th scope=col>educacion</th><th scope=col>sexo</th><th scope=col>edad</th><th scope=col>cervezas</th><th scope=col>hijos</th><th scope=col>cigarrillo</th></tr>\n",
              "\t<tr><th></th><th scope=col>&lt;int&gt;</th><th scope=col>&lt;int&gt;</th><th scope=col>&lt;fct&gt;</th><th scope=col>&lt;int&gt;</th><th scope=col>&lt;int&gt;</th><th scope=col>&lt;int&gt;</th><th scope=col>&lt;int&gt;</th></tr>\n",
              "</thead>\n",
              "<tbody>\n",
              "\t<tr><th scope=row>1</th><td>1</td><td>12</td><td>Masculino</td><td>18</td><td>3</td><td>0</td><td>0</td></tr>\n",
              "\t<tr><th scope=row>2</th><td>2</td><td>12</td><td>Femenino </td><td>19</td><td>2</td><td>0</td><td>1</td></tr>\n",
              "\t<tr><th scope=row>3</th><td>3</td><td>10</td><td>Masculino</td><td>20</td><td>5</td><td>0</td><td>1</td></tr>\n",
              "\t<tr><th scope=row>4</th><td>4</td><td>11</td><td>Masculino</td><td>20</td><td>4</td><td>0</td><td>0</td></tr>\n",
              "\t<tr><th scope=row>5</th><td>5</td><td>12</td><td>Femenino </td><td>20</td><td>3</td><td>1</td><td>0</td></tr>\n",
              "\t<tr><th scope=row>6</th><td>6</td><td>12</td><td>Femenino </td><td>20</td><td>4</td><td>1</td><td>0</td></tr>\n",
              "</tbody>\n",
              "</table>\n"
            ],
            "text/markdown": "\nA data.frame: 6 × 7\n\n| <!--/--> | id &lt;int&gt; | educacion &lt;int&gt; | sexo &lt;fct&gt; | edad &lt;int&gt; | cervezas &lt;int&gt; | hijos &lt;int&gt; | cigarrillo &lt;int&gt; |\n|---|---|---|---|---|---|---|---|\n| 1 | 1 | 12 | Masculino | 18 | 3 | 0 | 0 |\n| 2 | 2 | 12 | Femenino  | 19 | 2 | 0 | 1 |\n| 3 | 3 | 10 | Masculino | 20 | 5 | 0 | 1 |\n| 4 | 4 | 11 | Masculino | 20 | 4 | 0 | 0 |\n| 5 | 5 | 12 | Femenino  | 20 | 3 | 1 | 0 |\n| 6 | 6 | 12 | Femenino  | 20 | 4 | 1 | 0 |\n\n",
            "text/latex": "A data.frame: 6 × 7\n\\begin{tabular}{r|lllllll}\n  & id & educacion & sexo & edad & cervezas & hijos & cigarrillo\\\\\n  & <int> & <int> & <fct> & <int> & <int> & <int> & <int>\\\\\n\\hline\n\t1 & 1 & 12 & Masculino & 18 & 3 & 0 & 0\\\\\n\t2 & 2 & 12 & Femenino  & 19 & 2 & 0 & 1\\\\\n\t3 & 3 & 10 & Masculino & 20 & 5 & 0 & 1\\\\\n\t4 & 4 & 11 & Masculino & 20 & 4 & 0 & 0\\\\\n\t5 & 5 & 12 & Femenino  & 20 & 3 & 1 & 0\\\\\n\t6 & 6 & 12 & Femenino  & 20 & 4 & 1 & 0\\\\\n\\end{tabular}\n",
            "text/plain": [
              "  id educacion sexo      edad cervezas hijos cigarrillo\n",
              "1 1  12        Masculino 18   3        0     0         \n",
              "2 2  12        Femenino  19   2        0     1         \n",
              "3 3  10        Masculino 20   5        0     1         \n",
              "4 4  11        Masculino 20   4        0     0         \n",
              "5 5  12        Femenino  20   3        1     0         \n",
              "6 6  12        Femenino  20   4        1     0         "
            ]
          },
          "metadata": {}
        }
      ]
    },
    {
      "cell_type": "markdown",
      "source": [
        "Le quito las binarias como cigarrillo y sexo, también la inútil que es id"
      ],
      "metadata": {
        "id": "zQNX1E4DnIjE"
      }
    },
    {
      "cell_type": "code",
      "source": [
        "reg3<-lm(cervezas~.-id -cigarrillo-sexo, data=datos)\n",
        "summary(reg3)"
      ],
      "metadata": {
        "colab": {
          "base_uri": "https://localhost:8080/",
          "height": 392
        },
        "id": "CfvprNNAPbX2",
        "outputId": "fd7ab5c6-4023-4003-95fa-1352a1039d96"
      },
      "execution_count": null,
      "outputs": [
        {
          "output_type": "display_data",
          "data": {
            "text/plain": [
              "\n",
              "Call:\n",
              "lm(formula = cervezas ~ . - id - cigarrillo - sexo, data = datos)\n",
              "\n",
              "Residuals:\n",
              "    Min      1Q  Median      3Q     Max \n",
              "-3.2276 -1.1216 -0.2101  0.8385  8.7966 \n",
              "\n",
              "Coefficients:\n",
              "             Estimate Std. Error t value Pr(>|t|)    \n",
              "(Intercept)  5.584054   0.330089  16.917   <2e-16 ***\n",
              "educacion   -0.199828   0.019782 -10.101   <2e-16 ***\n",
              "edad        -0.006933   0.004235  -1.637    0.102    \n",
              "hijos        0.023097   0.043775   0.528    0.598    \n",
              "---\n",
              "Signif. codes:  0 ‘***’ 0.001 ‘**’ 0.01 ‘*’ 0.05 ‘.’ 0.1 ‘ ’ 1\n",
              "\n",
              "Residual standard error: 1.725 on 1136 degrees of freedom\n",
              "  (12 observations deleted due to missingness)\n",
              "Multiple R-squared:  0.08759,\tAdjusted R-squared:  0.08518 \n",
              "F-statistic: 36.35 on 3 and 1136 DF,  p-value: < 2.2e-16\n"
            ]
          },
          "metadata": {}
        }
      ]
    },
    {
      "cell_type": "code",
      "source": [
        "datos$log_cer<-log(datos$cervezas)\n",
        "datos$log_edu<-log(datos$educacion)\n",
        "datos$log_edad<-log(datos$edad)\n",
        "datos$log_hij<-log(datos$hijos)\n",
        "datos<-na.omit(datos)\n",
        "head(datos)"
      ],
      "metadata": {
        "colab": {
          "base_uri": "https://localhost:8080/",
          "height": 286
        },
        "id": "XA0gJ2r0mPjE",
        "outputId": "7869e83e-d305-4ffe-9f46-3f731307b777"
      },
      "execution_count": null,
      "outputs": [
        {
          "output_type": "display_data",
          "data": {
            "text/html": [
              "<table class=\"dataframe\">\n",
              "<caption>A data.frame: 6 × 11</caption>\n",
              "<thead>\n",
              "\t<tr><th></th><th scope=col>id</th><th scope=col>educacion</th><th scope=col>sexo</th><th scope=col>edad</th><th scope=col>cervezas</th><th scope=col>hijos</th><th scope=col>cigarrillo</th><th scope=col>log_cer</th><th scope=col>log_edu</th><th scope=col>log_edad</th><th scope=col>log_hij</th></tr>\n",
              "\t<tr><th></th><th scope=col>&lt;int&gt;</th><th scope=col>&lt;int&gt;</th><th scope=col>&lt;fct&gt;</th><th scope=col>&lt;int&gt;</th><th scope=col>&lt;int&gt;</th><th scope=col>&lt;int&gt;</th><th scope=col>&lt;int&gt;</th><th scope=col>&lt;dbl&gt;</th><th scope=col>&lt;dbl&gt;</th><th scope=col>&lt;dbl&gt;</th><th scope=col>&lt;dbl&gt;</th></tr>\n",
              "</thead>\n",
              "<tbody>\n",
              "\t<tr><th scope=row>1</th><td>1</td><td>12</td><td>Masculino</td><td>18</td><td>3</td><td>0</td><td>0</td><td>1.0986123</td><td>2.484907</td><td>2.890372</td><td>-Inf</td></tr>\n",
              "\t<tr><th scope=row>2</th><td>2</td><td>12</td><td>Femenino </td><td>19</td><td>2</td><td>0</td><td>1</td><td>0.6931472</td><td>2.484907</td><td>2.944439</td><td>-Inf</td></tr>\n",
              "\t<tr><th scope=row>3</th><td>3</td><td>10</td><td>Masculino</td><td>20</td><td>5</td><td>0</td><td>1</td><td>1.6094379</td><td>2.302585</td><td>2.995732</td><td>-Inf</td></tr>\n",
              "\t<tr><th scope=row>4</th><td>4</td><td>11</td><td>Masculino</td><td>20</td><td>4</td><td>0</td><td>0</td><td>1.3862944</td><td>2.397895</td><td>2.995732</td><td>-Inf</td></tr>\n",
              "\t<tr><th scope=row>5</th><td>5</td><td>12</td><td>Femenino </td><td>20</td><td>3</td><td>1</td><td>0</td><td>1.0986123</td><td>2.484907</td><td>2.995732</td><td>   0</td></tr>\n",
              "\t<tr><th scope=row>6</th><td>6</td><td>12</td><td>Femenino </td><td>20</td><td>4</td><td>1</td><td>0</td><td>1.3862944</td><td>2.484907</td><td>2.995732</td><td>   0</td></tr>\n",
              "</tbody>\n",
              "</table>\n"
            ],
            "text/markdown": "\nA data.frame: 6 × 11\n\n| <!--/--> | id &lt;int&gt; | educacion &lt;int&gt; | sexo &lt;fct&gt; | edad &lt;int&gt; | cervezas &lt;int&gt; | hijos &lt;int&gt; | cigarrillo &lt;int&gt; | log_cer &lt;dbl&gt; | log_edu &lt;dbl&gt; | log_edad &lt;dbl&gt; | log_hij &lt;dbl&gt; |\n|---|---|---|---|---|---|---|---|---|---|---|---|\n| 1 | 1 | 12 | Masculino | 18 | 3 | 0 | 0 | 1.0986123 | 2.484907 | 2.890372 | -Inf |\n| 2 | 2 | 12 | Femenino  | 19 | 2 | 0 | 1 | 0.6931472 | 2.484907 | 2.944439 | -Inf |\n| 3 | 3 | 10 | Masculino | 20 | 5 | 0 | 1 | 1.6094379 | 2.302585 | 2.995732 | -Inf |\n| 4 | 4 | 11 | Masculino | 20 | 4 | 0 | 0 | 1.3862944 | 2.397895 | 2.995732 | -Inf |\n| 5 | 5 | 12 | Femenino  | 20 | 3 | 1 | 0 | 1.0986123 | 2.484907 | 2.995732 |    0 |\n| 6 | 6 | 12 | Femenino  | 20 | 4 | 1 | 0 | 1.3862944 | 2.484907 | 2.995732 |    0 |\n\n",
            "text/latex": "A data.frame: 6 × 11\n\\begin{tabular}{r|lllllllllll}\n  & id & educacion & sexo & edad & cervezas & hijos & cigarrillo & log\\_cer & log\\_edu & log\\_edad & log\\_hij\\\\\n  & <int> & <int> & <fct> & <int> & <int> & <int> & <int> & <dbl> & <dbl> & <dbl> & <dbl>\\\\\n\\hline\n\t1 & 1 & 12 & Masculino & 18 & 3 & 0 & 0 & 1.0986123 & 2.484907 & 2.890372 & -Inf\\\\\n\t2 & 2 & 12 & Femenino  & 19 & 2 & 0 & 1 & 0.6931472 & 2.484907 & 2.944439 & -Inf\\\\\n\t3 & 3 & 10 & Masculino & 20 & 5 & 0 & 1 & 1.6094379 & 2.302585 & 2.995732 & -Inf\\\\\n\t4 & 4 & 11 & Masculino & 20 & 4 & 0 & 0 & 1.3862944 & 2.397895 & 2.995732 & -Inf\\\\\n\t5 & 5 & 12 & Femenino  & 20 & 3 & 1 & 0 & 1.0986123 & 2.484907 & 2.995732 &    0\\\\\n\t6 & 6 & 12 & Femenino  & 20 & 4 & 1 & 0 & 1.3862944 & 2.484907 & 2.995732 &    0\\\\\n\\end{tabular}\n",
            "text/plain": [
              "  id educacion sexo      edad cervezas hijos cigarrillo log_cer   log_edu \n",
              "1 1  12        Masculino 18   3        0     0          1.0986123 2.484907\n",
              "2 2  12        Femenino  19   2        0     1          0.6931472 2.484907\n",
              "3 3  10        Masculino 20   5        0     1          1.6094379 2.302585\n",
              "4 4  11        Masculino 20   4        0     0          1.3862944 2.397895\n",
              "5 5  12        Femenino  20   3        1     0          1.0986123 2.484907\n",
              "6 6  12        Femenino  20   4        1     0          1.3862944 2.484907\n",
              "  log_edad log_hij\n",
              "1 2.890372 -Inf   \n",
              "2 2.944439 -Inf   \n",
              "3 2.995732 -Inf   \n",
              "4 2.995732 -Inf   \n",
              "5 2.995732    0   \n",
              "6 2.995732    0   "
            ]
          },
          "metadata": {}
        }
      ]
    },
    {
      "cell_type": "code",
      "source": [
        "reg4<-lm(log_cer ~ log_edu+log_edad+log_hij, data=datos)\n",
        "summary(reg4)\n",
        "\n",
        "reg4<-lm(log_ven~log_pub+log_pre, data=vpp)\n",
        "summary(reg4)"
      ],
      "metadata": {
        "colab": {
          "base_uri": "https://localhost:8080/",
          "height": 151
        },
        "id": "tozWPQvMoMLl",
        "outputId": "6e2ff437-ad32-44c6-a714-69b587cf5663"
      },
      "execution_count": null,
      "outputs": [
        {
          "output_type": "error",
          "ename": "ERROR",
          "evalue": "ignored",
          "traceback": [
            "Error in lm.fit(x, y, offset = offset, singular.ok = singular.ok, ...): NA/NaN/Inf in 'x'\nTraceback:\n",
            "1. lm(log_cer ~ log_edu + log_edad + log_hij, data = datos)",
            "2. lm.fit(x, y, offset = offset, singular.ok = singular.ok, ...)"
          ]
        }
      ]
    },
    {
      "cell_type": "markdown",
      "source": [
        "Debido a que variante hijos mucha gente no tiene hijos hace que este método de logaritmos se descarte, si elimino a estas personas de la muestra inteferiía con mis demás respuestas además de que no sería algo estadísticamente representativo."
      ],
      "metadata": {
        "id": "l398Y6DeUc4M"
      }
    },
    {
      "cell_type": "markdown",
      "source": [
        "# Regresión logística binaria"
      ],
      "metadata": {
        "id": "DT7GyXl5fmRP"
      }
    },
    {
      "cell_type": "code",
      "source": [
        "rlog1<-glm(cigarrillo ~ .-id, data=consumo, family=\"binomial\")\n",
        "summary(rlog1)"
      ],
      "metadata": {
        "colab": {
          "base_uri": "https://localhost:8080/",
          "height": 499
        },
        "id": "J3ICcvav6M84",
        "outputId": "2d51e20a-751c-433b-cc3d-e9100a4c8d5b"
      },
      "execution_count": null,
      "outputs": [
        {
          "output_type": "display_data",
          "data": {
            "text/plain": [
              "\n",
              "Call:\n",
              "glm(formula = cigarrillo ~ . - id, family = \"binomial\", data = consumo)\n",
              "\n",
              "Deviance Residuals: \n",
              "    Min       1Q   Median       3Q      Max  \n",
              "-2.2026  -0.9291  -0.6722   1.0999   2.0346  \n",
              "\n",
              "Coefficients:\n",
              "               Estimate Std. Error z value Pr(>|z|)    \n",
              "(Intercept)   -4.152876   0.502085  -8.271  < 2e-16 ***\n",
              "educacion      0.088341   0.026408   3.345 0.000822 ***\n",
              "sexoMasculino  0.627597   0.132932   4.721 2.34e-06 ***\n",
              "edad           0.060432   0.005893  10.255  < 2e-16 ***\n",
              "cervezas       0.004828   0.039001   0.124 0.901472    \n",
              "hijos         -0.066994   0.057261  -1.170 0.242008    \n",
              "---\n",
              "Signif. codes:  0 ‘***’ 0.001 ‘**’ 0.01 ‘*’ 0.05 ‘.’ 0.1 ‘ ’ 1\n",
              "\n",
              "(Dispersion parameter for binomial family taken to be 1)\n",
              "\n",
              "    Null deviance: 1543.7  on 1139  degrees of freedom\n",
              "Residual deviance: 1382.5  on 1134  degrees of freedom\n",
              "  (12 observations deleted due to missingness)\n",
              "AIC: 1394.5\n",
              "\n",
              "Number of Fisher Scoring iterations: 4\n"
            ]
          },
          "metadata": {}
        }
      ]
    },
    {
      "cell_type": "markdown",
      "source": [
        "Ahora quitando las variables que según la prueba de Wald no aportan un valor significante (aquellas que no tienen estrellitas/asteriscos) en el aparte Pr(>|z|) del paso anterior, se puede notar que las variables que aportan son educación, sexo y edad (igualmente por tener estrellitas en la prueba de Wald)."
      ],
      "metadata": {
        "id": "boi-tMF-8Cxg"
      }
    },
    {
      "cell_type": "code",
      "source": [
        "rlog2<-glm(cigarrillo ~ educacion+sexo+edad, data=consumo, family=\"binomial\")\n",
        "summary(rlog2)"
      ],
      "metadata": {
        "colab": {
          "base_uri": "https://localhost:8080/",
          "height": 464
        },
        "id": "Z6vM8PNx8N_3",
        "outputId": "d15511c4-539a-4f07-c5db-601741fb7cbd"
      },
      "execution_count": null,
      "outputs": [
        {
          "output_type": "display_data",
          "data": {
            "text/plain": [
              "\n",
              "Call:\n",
              "glm(formula = cigarrillo ~ educacion + sexo + edad, family = \"binomial\", \n",
              "    data = consumo)\n",
              "\n",
              "Deviance Residuals: \n",
              "    Min       1Q   Median       3Q      Max  \n",
              "-2.1548  -0.9170  -0.6599   1.1004   2.0739  \n",
              "\n",
              "Coefficients:\n",
              "               Estimate Std. Error z value Pr(>|z|)    \n",
              "(Intercept)   -4.252132   0.446278  -9.528  < 2e-16 ***\n",
              "educacion      0.093680   0.024593   3.809 0.000139 ***\n",
              "sexoMasculino  0.682171   0.130654   5.221 1.78e-07 ***\n",
              "edad           0.057965   0.005218  11.109  < 2e-16 ***\n",
              "---\n",
              "Signif. codes:  0 ‘***’ 0.001 ‘**’ 0.01 ‘*’ 0.05 ‘.’ 0.1 ‘ ’ 1\n",
              "\n",
              "(Dispersion parameter for binomial family taken to be 1)\n",
              "\n",
              "    Null deviance: 1558.5  on 1151  degrees of freedom\n",
              "Residual deviance: 1391.9  on 1148  degrees of freedom\n",
              "AIC: 1399.9\n",
              "\n",
              "Number of Fisher Scoring iterations: 4\n"
            ]
          },
          "metadata": {}
        }
      ]
    },
    {
      "cell_type": "code",
      "source": [
        "rlog2"
      ],
      "metadata": {
        "colab": {
          "base_uri": "https://localhost:8080/",
          "height": 214
        },
        "id": "44TjmcSHbqx8",
        "outputId": "11cad0bb-cc63-47d5-c0fe-a868634de06f"
      },
      "execution_count": null,
      "outputs": [
        {
          "output_type": "display_data",
          "data": {
            "text/plain": [
              "\n",
              "Call:  glm(formula = cigarrillo ~ educacion + sexo + edad, family = \"binomial\", \n",
              "    data = consumo)\n",
              "\n",
              "Coefficients:\n",
              "  (Intercept)      educacion  sexoMasculino           edad  \n",
              "     -4.25213        0.09368        0.68217        0.05797  \n",
              "\n",
              "Degrees of Freedom: 1151 Total (i.e. Null);  1148 Residual\n",
              "Null Deviance:\t    1559 \n",
              "Residual Deviance: 1392 \tAIC: 1400"
            ]
          },
          "metadata": {}
        }
      ]
    },
    {
      "cell_type": "markdown",
      "source": [
        "Ahora toca saber si el modelo hecho anteriormente está correctamente especificado a través de la prueba de significancia global omnibus que es una tipo Chi cuadrado"
      ],
      "metadata": {
        "id": "YdTyWxQG_yo3"
      }
    },
    {
      "cell_type": "code",
      "source": [
        "#prueba de significancia global H0: ¿modelo (in)correctamente especificado?\n",
        "anova(rlog2, test=\"Chisq\")"
      ],
      "metadata": {
        "colab": {
          "base_uri": "https://localhost:8080/",
          "height": 224
        },
        "id": "SFk0inwb_d52",
        "outputId": "9ab89141-01db-41d6-fa0e-2ff74ebed35b"
      },
      "execution_count": null,
      "outputs": [
        {
          "output_type": "display_data",
          "data": {
            "text/html": [
              "<table class=\"dataframe\">\n",
              "<caption>A anova: 4 × 5</caption>\n",
              "<thead>\n",
              "\t<tr><th></th><th scope=col>Df</th><th scope=col>Deviance</th><th scope=col>Resid. Df</th><th scope=col>Resid. Dev</th><th scope=col>Pr(&gt;Chi)</th></tr>\n",
              "\t<tr><th></th><th scope=col>&lt;int&gt;</th><th scope=col>&lt;dbl&gt;</th><th scope=col>&lt;int&gt;</th><th scope=col>&lt;dbl&gt;</th><th scope=col>&lt;dbl&gt;</th></tr>\n",
              "</thead>\n",
              "<tbody>\n",
              "\t<tr><th scope=row>NULL</th><td>NA</td><td>        NA</td><td>1151</td><td>1558.515</td><td>          NA</td></tr>\n",
              "\t<tr><th scope=row>educacion</th><td> 1</td><td>  2.034573</td><td>1150</td><td>1556.480</td><td>1.537574e-01</td></tr>\n",
              "\t<tr><th scope=row>sexo</th><td> 1</td><td> 19.736171</td><td>1149</td><td>1536.744</td><td>8.890266e-06</td></tr>\n",
              "\t<tr><th scope=row>edad</th><td> 1</td><td>144.876083</td><td>1148</td><td>1391.868</td><td>2.285874e-33</td></tr>\n",
              "</tbody>\n",
              "</table>\n"
            ],
            "text/markdown": "\nA anova: 4 × 5\n\n| <!--/--> | Df &lt;int&gt; | Deviance &lt;dbl&gt; | Resid. Df &lt;int&gt; | Resid. Dev &lt;dbl&gt; | Pr(&gt;Chi) &lt;dbl&gt; |\n|---|---|---|---|---|---|\n| NULL | NA |         NA | 1151 | 1558.515 |           NA |\n| educacion |  1 |   2.034573 | 1150 | 1556.480 | 1.537574e-01 |\n| sexo |  1 |  19.736171 | 1149 | 1536.744 | 8.890266e-06 |\n| edad |  1 | 144.876083 | 1148 | 1391.868 | 2.285874e-33 |\n\n",
            "text/latex": "A anova: 4 × 5\n\\begin{tabular}{r|lllll}\n  & Df & Deviance & Resid. Df & Resid. Dev & Pr(>Chi)\\\\\n  & <int> & <dbl> & <int> & <dbl> & <dbl>\\\\\n\\hline\n\tNULL & NA &         NA & 1151 & 1558.515 &           NA\\\\\n\teducacion &  1 &   2.034573 & 1150 & 1556.480 & 1.537574e-01\\\\\n\tsexo &  1 &  19.736171 & 1149 & 1536.744 & 8.890266e-06\\\\\n\tedad &  1 & 144.876083 & 1148 & 1391.868 & 2.285874e-33\\\\\n\\end{tabular}\n",
            "text/plain": [
              "          Df Deviance   Resid. Df Resid. Dev Pr(>Chi)    \n",
              "NULL      NA         NA 1151      1558.515             NA\n",
              "educacion  1   2.034573 1150      1556.480   1.537574e-01\n",
              "sexo       1  19.736171 1149      1536.744   8.890266e-06\n",
              "edad       1 144.876083 1148      1391.868   2.285874e-33"
            ]
          },
          "metadata": {}
        }
      ]
    },
    {
      "cell_type": "markdown",
      "source": [
        "Ahora la bondad de ajuste que no es un porcentaje por pseudo R cuadrados, entre más cercanos a 1 mejor"
      ],
      "metadata": {
        "id": "5GIuoOtVVx0I"
      }
    },
    {
      "cell_type": "code",
      "source": [
        "PseudoR2(rlog2,which=\"McFadden\")\n",
        "PseudoR2(rlog2,which=\"Nagelkerke\")"
      ],
      "metadata": {
        "colab": {
          "base_uri": "https://localhost:8080/",
          "height": 52
        },
        "id": "y8_7jkOSVb8Y",
        "outputId": "524a74b4-651b-47df-b7fb-913eb6c5d1b4"
      },
      "execution_count": null,
      "outputs": [
        {
          "output_type": "display_data",
          "data": {
            "text/html": [
              "<strong>McFadden:</strong> 0.106926677258114"
            ],
            "text/markdown": "**McFadden:** 0.106926677258114",
            "text/latex": "\\textbf{McFadden:} 0.106926677258114",
            "text/plain": [
              " McFadden \n",
              "0.1069267 "
            ]
          },
          "metadata": {}
        },
        {
          "output_type": "display_data",
          "data": {
            "text/html": [
              "<strong>Nagelkerke:</strong> 0.181633962422998"
            ],
            "text/markdown": "**Nagelkerke:** 0.181633962422998",
            "text/latex": "\\textbf{Nagelkerke:} 0.181633962422998",
            "text/plain": [
              "Nagelkerke \n",
              "  0.181634 "
            ]
          },
          "metadata": {}
        }
      ]
    },
    {
      "cell_type": "markdown",
      "source": [
        "Para pseudo R cuadrados me quedo con el número más grande que es en este caso Nagelkerke y ahora pasamos a las matrices para poder hacer la predicción transformándolos a factores"
      ],
      "metadata": {
        "id": "Hr-RMKRZWK8Q"
      }
    },
    {
      "cell_type": "code",
      "source": [
        "consumo$rp<-predict(rlog2,type=\"response\")\n",
        "consumo$rtipo<-as.numeric(consumo$rp>0.5)\n",
        "\n",
        "consumo$rp<-as.factor(consumo$rp)\n",
        "consumo$rtipo<-as.factor(consumo$rtipo)\n",
        "#otra columna que contraste rp y rtipo\n",
        "t1<-table(consumo$cigarrillo,consumo$rtipo)\n",
        "head(consumo)\n",
        "t1\n",
        "prop.table(t1,2)\n",
        "prop.table(t1,2)*100"
      ],
      "metadata": {
        "colab": {
          "base_uri": "https://localhost:8080/",
          "height": 501
        },
        "id": "oetuSgGvWcHo",
        "outputId": "0eb5dca5-ecff-4ea2-95ee-4d60263c6b44"
      },
      "execution_count": null,
      "outputs": [
        {
          "output_type": "display_data",
          "data": {
            "text/html": [
              "<table class=\"dataframe\">\n",
              "<caption>A data.frame: 6 × 9</caption>\n",
              "<thead>\n",
              "\t<tr><th></th><th scope=col>id</th><th scope=col>educacion</th><th scope=col>sexo</th><th scope=col>edad</th><th scope=col>cervezas</th><th scope=col>hijos</th><th scope=col>cigarrillo</th><th scope=col>rp</th><th scope=col>rtipo</th></tr>\n",
              "\t<tr><th></th><th scope=col>&lt;int&gt;</th><th scope=col>&lt;int&gt;</th><th scope=col>&lt;fct&gt;</th><th scope=col>&lt;int&gt;</th><th scope=col>&lt;int&gt;</th><th scope=col>&lt;int&gt;</th><th scope=col>&lt;int&gt;</th><th scope=col>&lt;fct&gt;</th><th scope=col>&lt;fct&gt;</th></tr>\n",
              "</thead>\n",
              "<tbody>\n",
              "\t<tr><th scope=row>1</th><td>1</td><td>12</td><td>Masculino</td><td>18</td><td>3</td><td>0</td><td>0</td><td>0.197432080389105</td><td>0</td></tr>\n",
              "\t<tr><th scope=row>2</th><td>2</td><td>12</td><td>Femenino </td><td>19</td><td>2</td><td>0</td><td>1</td><td>0.116435458604318</td><td>0</td></tr>\n",
              "\t<tr><th scope=row>3</th><td>3</td><td>10</td><td>Masculino</td><td>20</td><td>5</td><td>0</td><td>1</td><td>0.186357790447152</td><td>0</td></tr>\n",
              "\t<tr><th scope=row>4</th><td>4</td><td>11</td><td>Masculino</td><td>20</td><td>4</td><td>0</td><td>0</td><td>0.200981402531191</td><td>0</td></tr>\n",
              "\t<tr><th scope=row>5</th><td>5</td><td>12</td><td>Femenino </td><td>20</td><td>3</td><td>1</td><td>0</td><td>0.122532674698305</td><td>0</td></tr>\n",
              "\t<tr><th scope=row>6</th><td>6</td><td>12</td><td>Femenino </td><td>20</td><td>4</td><td>1</td><td>0</td><td>0.122532674698305</td><td>0</td></tr>\n",
              "</tbody>\n",
              "</table>\n"
            ],
            "text/markdown": "\nA data.frame: 6 × 9\n\n| <!--/--> | id &lt;int&gt; | educacion &lt;int&gt; | sexo &lt;fct&gt; | edad &lt;int&gt; | cervezas &lt;int&gt; | hijos &lt;int&gt; | cigarrillo &lt;int&gt; | rp &lt;fct&gt; | rtipo &lt;fct&gt; |\n|---|---|---|---|---|---|---|---|---|---|\n| 1 | 1 | 12 | Masculino | 18 | 3 | 0 | 0 | 0.197432080389105 | 0 |\n| 2 | 2 | 12 | Femenino  | 19 | 2 | 0 | 1 | 0.116435458604318 | 0 |\n| 3 | 3 | 10 | Masculino | 20 | 5 | 0 | 1 | 0.186357790447152 | 0 |\n| 4 | 4 | 11 | Masculino | 20 | 4 | 0 | 0 | 0.200981402531191 | 0 |\n| 5 | 5 | 12 | Femenino  | 20 | 3 | 1 | 0 | 0.122532674698305 | 0 |\n| 6 | 6 | 12 | Femenino  | 20 | 4 | 1 | 0 | 0.122532674698305 | 0 |\n\n",
            "text/latex": "A data.frame: 6 × 9\n\\begin{tabular}{r|lllllllll}\n  & id & educacion & sexo & edad & cervezas & hijos & cigarrillo & rp & rtipo\\\\\n  & <int> & <int> & <fct> & <int> & <int> & <int> & <int> & <fct> & <fct>\\\\\n\\hline\n\t1 & 1 & 12 & Masculino & 18 & 3 & 0 & 0 & 0.197432080389105 & 0\\\\\n\t2 & 2 & 12 & Femenino  & 19 & 2 & 0 & 1 & 0.116435458604318 & 0\\\\\n\t3 & 3 & 10 & Masculino & 20 & 5 & 0 & 1 & 0.186357790447152 & 0\\\\\n\t4 & 4 & 11 & Masculino & 20 & 4 & 0 & 0 & 0.200981402531191 & 0\\\\\n\t5 & 5 & 12 & Femenino  & 20 & 3 & 1 & 0 & 0.122532674698305 & 0\\\\\n\t6 & 6 & 12 & Femenino  & 20 & 4 & 1 & 0 & 0.122532674698305 & 0\\\\\n\\end{tabular}\n",
            "text/plain": [
              "  id educacion sexo      edad cervezas hijos cigarrillo rp                rtipo\n",
              "1 1  12        Masculino 18   3        0     0          0.197432080389105 0    \n",
              "2 2  12        Femenino  19   2        0     1          0.116435458604318 0    \n",
              "3 3  10        Masculino 20   5        0     1          0.186357790447152 0    \n",
              "4 4  11        Masculino 20   4        0     0          0.200981402531191 0    \n",
              "5 5  12        Femenino  20   3        1     0          0.122532674698305 0    \n",
              "6 6  12        Femenino  20   4        1     0          0.122532674698305 0    "
            ]
          },
          "metadata": {}
        },
        {
          "output_type": "display_data",
          "data": {
            "text/plain": [
              "   \n",
              "      0   1\n",
              "  0 561 120\n",
              "  1 225 246"
            ]
          },
          "metadata": {}
        },
        {
          "output_type": "display_data",
          "data": {
            "text/plain": [
              "   \n",
              "            0         1\n",
              "  0 0.7137405 0.3278689\n",
              "  1 0.2862595 0.6721311"
            ]
          },
          "metadata": {}
        },
        {
          "output_type": "display_data",
          "data": {
            "text/plain": [
              "   \n",
              "           0        1\n",
              "  0 71.37405 32.78689\n",
              "  1 28.62595 67.21311"
            ]
          },
          "metadata": {}
        }
      ]
    },
    {
      "cell_type": "markdown",
      "source": [
        "Finalmente con esto obtenemos la matriz de confusión de t1 en porcentajes"
      ],
      "metadata": {
        "id": "0KJuJtTLXdUi"
      }
    }
  ]
}